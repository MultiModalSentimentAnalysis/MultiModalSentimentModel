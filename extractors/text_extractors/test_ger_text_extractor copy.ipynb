{
 "cells": [
  {
   "cell_type": "code",
   "execution_count": 2,
   "metadata": {
    "collapsed": false,
    "pycharm": {
     "name": "#%%\n"
    }
   },
   "outputs": [
    {
     "name": "stdout",
     "output_type": "stream",
     "text": [
      "tensor([[-0.2688,  1.4689,  0.5419,  ..., -0.3550, -0.6239,  0.4319],\n",
      "        [-0.2028,  1.3335,  0.3905,  ..., -0.2453, -0.6165,  0.2172]],\n",
      "       device='cuda:0')\n"
     ]
    }
   ],
   "source": [
    "from german_text_extractor import GermanTextEmbeddingExtractor\n",
    "\n",
    "embedding_extractor = GermanTextEmbeddingExtractor()\n",
    "sentences = [\n",
    "    \"Mit diesem Arschloch?\",\n",
    "    \"Zwei Typen kommen rein, einer geht raus.\",\n",
    "]\n",
    "\n",
    "embeddings = embedding_extractor.extract_embedding(sentences)\n",
    "print(embeddings)"
   ]
  },
  {
   "cell_type": "code",
   "execution_count": 3,
   "metadata": {
    "collapsed": false,
    "pycharm": {
     "name": "#%%\n"
    }
   },
   "outputs": [
    {
     "data": {
      "text/plain": [
       "(torch.Size([2, 768]), device(type='cuda', index=0))"
      ]
     },
     "execution_count": 3,
     "metadata": {},
     "output_type": "execute_result"
    }
   ],
   "source": [
    "embeddings.shape, embeddings.device"
   ]
  }
 ],
 "metadata": {
  "kernelspec": {
   "display_name": "Python 3.8.11 ('.venv': venv)",
   "language": "python",
   "name": "python3"
  },
  "language_info": {
   "codemirror_mode": {
    "name": "ipython",
    "version": 3
   },
   "file_extension": ".py",
   "mimetype": "text/x-python",
   "name": "python",
   "nbconvert_exporter": "python",
   "pygments_lexer": "ipython3",
   "version": "3.10.4"
  },
  "vscode": {
   "interpreter": {
    "hash": "de7383211b4ffff70067782259e5c1c9d8bdc7fbe1ab4077ac9d43b5a6892f49"
   }
  }
 },
 "nbformat": 4,
 "nbformat_minor": 0
}
