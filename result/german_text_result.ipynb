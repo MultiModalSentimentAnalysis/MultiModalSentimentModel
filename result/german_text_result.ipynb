{
 "cells": [
  {
   "cell_type": "code",
   "execution_count": 1,
   "metadata": {},
   "outputs": [],
   "source": [
    "import sys, os\n",
    "from pathlib import Path\n",
    "\n",
    "BASE_DIR = Path(os.path.dirname(os.getcwd()))\n",
    "sys.path.append(str(BASE_DIR))"
   ]
  },
  {
   "cell_type": "code",
   "execution_count": 2,
   "metadata": {
    "collapsed": false,
    "pycharm": {
     "name": "#%%\n"
    }
   },
   "outputs": [
    {
     "name": "stderr",
     "output_type": "stream",
     "text": [
      "/home/sahel/personal/university/NLP/project/MultiModalEmotionRecognition/.venv/lib/python3.10/site-packages/tqdm/auto.py:22: TqdmWarning: IProgress not found. Please update jupyter and ipywidgets. See https://ipywidgets.readthedocs.io/en/stable/user_install.html\n",
      "  from .autonotebook import tqdm as notebook_tqdm\n",
      "2022-08-25 23:22:36.199199: I tensorflow/core/util/util.cc:169] oneDNN custom operations are on. You may see slightly different numerical results due to floating-point round-off errors from different computation orders. To turn them off, set the environment variable `TF_ENABLE_ONEDNN_OPTS=0`.\n"
     ]
    }
   ],
   "source": [
    "from extractors.text_extractors.german_text_extractor import GermanTextEmbeddingExtractor\n",
    "\n",
    "embedding_extractor = GermanTextEmbeddingExtractor()"
   ]
  },
  {
   "cell_type": "code",
   "execution_count": 3,
   "metadata": {},
   "outputs": [],
   "source": [
    "SPLIT = 'dev'"
   ]
  },
  {
   "cell_type": "code",
   "execution_count": 4,
   "metadata": {
    "collapsed": false,
    "pycharm": {
     "name": "#%%\n"
    }
   },
   "outputs": [],
   "source": [
    "import torch\n",
    "# features_path = BASE_DIR / \"data/saved_features\"\n",
    "# real_indexes = torch.load(features_path/ f'real_indexes_{SPLIT}.pt').tolist()\n",
    "# print(len(real_indexes))\n",
    "\n",
    "with open(BASE_DIR / \"data\" / f\"german_{SPLIT}.txt\") as f:\n",
    "    all_sentences =[l.strip() for l in f.readlines()]\n",
    "    # sentences = [all_sentences[i] for i in real_indexes]\n",
    "# sentences = sentences[:n]\n",
    "# print(len(sentences))\n",
    "with open(BASE_DIR / \"data\" / f\"sentiment_{SPLIT}.txt\") as f:\n",
    "    all_sentiments = [int(l.strip())for l in f.readlines()]\n",
    "    # sentiments = [all_sentiments[i] for i in real_indexes]\n",
    "# sentiments = sentiments[:n]\n",
    "# print(len(sentiments))"
   ]
  },
  {
   "cell_type": "code",
   "execution_count": 9,
   "metadata": {},
   "outputs": [],
   "source": [
    "sentences = all_sentences\n",
    "sentiments = all_sentiments"
   ]
  },
  {
   "cell_type": "code",
   "execution_count": 10,
   "metadata": {},
   "outputs": [],
   "source": [
    "results = embedding_extractor.get_labels(sentences)"
   ]
  },
  {
   "cell_type": "code",
   "execution_count": 11,
   "metadata": {},
   "outputs": [
    {
     "name": "stdout",
     "output_type": "stream",
     "text": [
      "{'accuracy': 0.3892948844558562}\n",
      "{'precision': array([0.35706914, 0.41755319, 0.46779141])}\n",
      "{'precision': 0.4141379153263863}\n",
      "{'precision': 0.3892948844558562}\n",
      "{'precision': 0.41090743017866127}\n",
      "{'f1': array([0.44444444, 0.37503732, 0.28964862])}\n",
      "{'f1': 0.36971013066696684}\n",
      "{'f1': 0.3892948844558562}\n",
      "{'f1': 0.37469740502779314}\n",
      "{'recall': array([0.58843537, 0.3403794 , 0.20976616])}\n",
      "{'recall': 0.3795269800848548}\n",
      "{'recall': 0.3892948844558562}\n",
      "{'recall': 0.3892948844558562}\n"
     ]
    }
   ],
   "source": [
    "import evaluate\n",
    "\n",
    "def convert_label(label):\n",
    "    if label == \"neutral\":\n",
    "        return 0\n",
    "    elif label == \"negative\":\n",
    "        return 1\n",
    "    elif label == \"positive\":\n",
    "        return 2\n",
    "\n",
    "\n",
    "accuracy = evaluate.load(\"accuracy\")\n",
    "precision = evaluate.load(\"precision\")\n",
    "precision_macro = evaluate.load(\"precision\")\n",
    "precision_micro = evaluate.load(\"precision\")\n",
    "precision_weighted = evaluate.load(\"precision\")\n",
    "f1 = evaluate.load(\"f1\")\n",
    "f1_macro = evaluate.load(\"f1\")\n",
    "f1_micro = evaluate.load(\"f1\")\n",
    "f1_weighted = evaluate.load(\"f1\")\n",
    "recall = evaluate.load('recall')\n",
    "recall_macro = evaluate.load('recall')\n",
    "recall_micro = evaluate.load('recall')\n",
    "recall_weighted = evaluate.load('recall')\n",
    "\n",
    "for index, result in enumerate(results):\n",
    "    predicted_label = convert_label(result[\"label\"])\n",
    "    accuracy.add(predictions=predicted_label, references=sentiments[index])\n",
    "    precision.add(predictions=predicted_label, references=sentiments[index])\n",
    "    precision_macro.add(predictions=predicted_label, references=sentiments[index])\n",
    "    precision_micro.add(predictions=predicted_label, references=sentiments[index])\n",
    "    precision_weighted.add(predictions=predicted_label, references=sentiments[index])\n",
    "    f1.add(predictions=predicted_label, references=sentiments[index])\n",
    "    f1_macro.add(predictions=predicted_label, references=sentiments[index])\n",
    "    f1_micro.add(predictions=predicted_label, references=sentiments[index])\n",
    "    f1_weighted.add(predictions=predicted_label, references=sentiments[index])\n",
    "    recall.add(predictions=predicted_label, references=sentiments[index])\n",
    "    recall_macro.add(predictions=predicted_label, references=sentiments[index])\n",
    "    recall_micro.add(predictions=predicted_label, references=sentiments[index])\n",
    "    recall_weighted.add(predictions=predicted_label, references=sentiments[index])\n",
    "\n",
    "print(accuracy.compute())\n",
    "print(precision.compute(average = None))\n",
    "print(precision_macro.compute(average = 'macro'))\n",
    "print(precision_micro.compute(average = 'micro'))\n",
    "print(precision_weighted.compute(average = 'weighted'))\n",
    "print(f1.compute(average = None))\n",
    "print(f1_macro.compute(average = 'macro'))\n",
    "print(f1_micro.compute(average = 'micro'))\n",
    "print(f1_weighted.compute(average = 'weighted'))\n",
    "print(recall.compute(average = None))\n",
    "print(recall_macro.compute(average = 'macro'))\n",
    "print(recall_micro.compute(average = 'micro'))\n",
    "print(recall_weighted.compute(average = 'weighted'))\n"
   ]
  },
  {
   "cell_type": "code",
   "execution_count": null,
   "metadata": {},
   "outputs": [],
   "source": []
  }
 ],
 "metadata": {
  "kernelspec": {
   "display_name": "Python 3.10.4 ('.venv': venv)",
   "language": "python",
   "name": "python3"
  },
  "language_info": {
   "codemirror_mode": {
    "name": "ipython",
    "version": 3
   },
   "file_extension": ".py",
   "mimetype": "text/x-python",
   "name": "python",
   "nbconvert_exporter": "python",
   "pygments_lexer": "ipython3",
   "version": "3.10.4"
  },
  "vscode": {
   "interpreter": {
    "hash": "f3da51dd6d3f0e1c52eb5b12ce5c94e304134935261bfbe222c5b88b5f9409b4"
   }
  }
 },
 "nbformat": 4,
 "nbformat_minor": 0
}
