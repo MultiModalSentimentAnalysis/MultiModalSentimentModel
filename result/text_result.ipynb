{
 "cells": [
  {
   "cell_type": "code",
   "execution_count": 3,
   "metadata": {},
   "outputs": [
    {
     "name": "stdout",
     "output_type": "stream",
     "text": [
      "/home/amin/amin/University/Term8/NLP/project/MultiModalEmotionRecognition\n"
     ]
    }
   ],
   "source": [
    "import sys, os\n",
    "sys.path.append(os.path.dirname(os.getcwd()))"
   ]
  },
  {
   "cell_type": "code",
   "execution_count": 4,
   "metadata": {
    "collapsed": false,
    "pycharm": {
     "name": "#%%\n"
    }
   },
   "outputs": [
    {
     "name": "stderr",
     "output_type": "stream",
     "text": [
      "/home/amin/amin/University/Term8/NLP/project/.venv/lib/python3.8/site-packages/tqdm/auto.py:22: TqdmWarning: IProgress not found. Please update jupyter and ipywidgets. See https://ipywidgets.readthedocs.io/en/stable/user_install.html\n",
      "  from .autonotebook import tqdm as notebook_tqdm\n",
      "2022-08-16 17:54:26.917470: W tensorflow/stream_executor/platform/default/dso_loader.cc:64] Could not load dynamic library 'libcudart.so.11.0'; dlerror: libcudart.so.11.0: cannot open shared object file: No such file or directory\n",
      "2022-08-16 17:54:26.917554: I tensorflow/stream_executor/cuda/cudart_stub.cc:29] Ignore above cudart dlerror if you do not have a GPU set up on your machine.\n",
      "Downloading tokenizer_config.json: 100%|██████████| 334/334 [00:00<00:00, 50.3kB/s]\n",
      "Downloading tokenizer.json: 100%|██████████| 838k/838k [00:31<00:00, 27.7kB/s] \n",
      "Downloading special_tokens_map.json: 100%|██████████| 150/150 [00:00<00:00, 52.2kB/s]\n",
      "Downloading config.json: 100%|██████████| 925/925 [00:00<00:00, 180kB/s]\n",
      "Downloading pytorch_model.bin:  21%|██        | 87.8M/415M [07:58<28:43, 199kB/s]    "
     ]
    }
   ],
   "source": [
    "from text_analysis.text_embedding_extractor import TextEmbeddingExtractor\n",
    "\n",
    "embedding_extractor = TextEmbeddingExtractor()\n"
   ]
  },
  {
   "cell_type": "code",
   "execution_count": 27,
   "metadata": {
    "collapsed": false,
    "pycharm": {
     "name": "#%%\n"
    }
   },
   "outputs": [],
   "source": [
    "# n =1000\n",
    "with open(\"data/english_test.txt\") as f:\n",
    "    sentences = f.readlines()\n",
    "# sentences = sentences[:n]\n",
    "\n",
    "with open(\"data/sentiment_test.txt\") as f:\n",
    "    sentiments = f.readlines()\n",
    "# sentiments = sentiments[:n]"
   ]
  },
  {
   "cell_type": "code",
   "execution_count": 28,
   "metadata": {},
   "outputs": [],
   "source": [
    "results = embedding_extractor.get_labels(sentences)"
   ]
  },
  {
   "cell_type": "code",
   "execution_count": 30,
   "metadata": {},
   "outputs": [
    {
     "name": "stdout",
     "output_type": "stream",
     "text": [
      "0.42628774422735344\n"
     ]
    }
   ],
   "source": [
    "def convert_label(label):\n",
    "    if label =='NEU':\n",
    "        return 0\n",
    "    elif label == 'NEG':\n",
    "        return 1\n",
    "    elif label == 'POS':\n",
    "        return 2\n",
    "\n",
    "correct_predictions = 0\n",
    "for index, result in enumerate(results):\n",
    "    # print('---',index,'---')\n",
    "    predicted_label = convert_label(result['label'])\n",
    "    if predicted_label == int(sentiments[index]) : \n",
    "        correct_predictions+=1\n",
    "print(correct_predictions/len(sentences))"
   ]
  }
 ],
 "metadata": {
  "kernelspec": {
   "display_name": "Python 3.8.11 ('.venv')",
   "language": "python",
   "name": "python3"
  },
  "language_info": {
   "codemirror_mode": {
    "name": "ipython",
    "version": 3
   },
   "file_extension": ".py",
   "mimetype": "text/x-python",
   "name": "python",
   "nbconvert_exporter": "python",
   "pygments_lexer": "ipython3",
   "version": "3.8.11"
  },
  "vscode": {
   "interpreter": {
    "hash": "de7383211b4ffff70067782259e5c1c9d8bdc7fbe1ab4077ac9d43b5a6892f49"
   }
  }
 },
 "nbformat": 4,
 "nbformat_minor": 0
}
