{
 "cells": [
  {
   "cell_type": "code",
   "execution_count": 1,
   "metadata": {},
   "outputs": [],
   "source": [
    "import sys, os\n",
    "from pathlib import Path\n",
    "\n",
    "BASE_DIR = Path(os.path.dirname(os.getcwd()))\n",
    "sys.path.append(str(BASE_DIR))"
   ]
  },
  {
   "cell_type": "code",
   "execution_count": 2,
   "metadata": {
    "collapsed": false,
    "pycharm": {
     "name": "#%%\n"
    }
   },
   "outputs": [],
   "source": [
    "from extractors.text_extractors.text_extractor import TextEmbeddingExtractor\n",
    "\n",
    "embedding_extractor = TextEmbeddingExtractor()"
   ]
  },
  {
   "cell_type": "code",
   "execution_count": 3,
   "metadata": {
    "collapsed": false,
    "pycharm": {
     "name": "#%%\n"
    }
   },
   "outputs": [],
   "source": [
    "# n =1000\n",
    "with open(BASE_DIR / \"data\" / \"english_test.txt\") as f:\n",
    "    sentences = f.readlines()\n",
    "# sentences = sentences[:n]\n",
    "\n",
    "with open(BASE_DIR / \"data\" / \"sentiment_test.txt\") as f:\n",
    "    sentiments = f.readlines()\n",
    "# sentiments = sentiments[:n]"
   ]
  },
  {
   "cell_type": "code",
   "execution_count": 4,
   "metadata": {},
   "outputs": [],
   "source": [
    "results = embedding_extractor.get_labels(sentences)"
   ]
  },
  {
   "cell_type": "code",
   "execution_count": 21,
   "metadata": {},
   "outputs": [
    {
     "data": {
      "application/vnd.jupyter.widget-view+json": {
       "model_id": "428f81710d4e4f34896c745a8b46fd66",
       "version_major": 2,
       "version_minor": 0
      },
      "text/plain": [
       "Downloading builder script:   0%|          | 0.00/7.36k [00:00<?, ?B/s]"
      ]
     },
     "metadata": {},
     "output_type": "display_data"
    },
    {
     "name": "stdout",
     "output_type": "stream",
     "text": [
      "{'accuracy': 0.42628774422735344}\n",
      "{'precision': array([0.30533333, 0.79389313, 0.73634652])}\n",
      "{'precision': 0.6118576597039529}\n",
      "{'precision': 0.42628774422735344}\n",
      "{'precision': 0.6505004955732033}\n",
      "{'f1': array([0.45364501, 0.4231943 , 0.36593355])}\n",
      "{'f1': 0.4142576209285145}\n",
      "{'f1': 0.4262877442273535}\n",
      "{'f1': 0.41284582238989026}\n",
      "{'recall': array([0.88212635, 0.28848821, 0.24346202])}\n",
      "{'recall': 0.4713588588269904}\n",
      "{'recall': 0.42628774422735344}\n",
      "{'recall': 0.42628774422735344}\n"
     ]
    }
   ],
   "source": [
    "import evaluate\n",
    "\n",
    "def convert_label(label):\n",
    "    if label == \"NEU\":\n",
    "        return 0\n",
    "    elif label == \"NEG\":\n",
    "        return 1\n",
    "    elif label == \"POS\":\n",
    "        return 2\n",
    "\n",
    "\n",
    "accuracy = evaluate.load(\"accuracy\")\n",
    "precision = evaluate.load(\"precision\")\n",
    "precision_macro = evaluate.load(\"precision\")\n",
    "precision_micro = evaluate.load(\"precision\")\n",
    "precision_weighted = evaluate.load(\"precision\")\n",
    "f1 = evaluate.load(\"f1\")\n",
    "f1_macro = evaluate.load(\"f1\")\n",
    "f1_micro = evaluate.load(\"f1\")\n",
    "f1_weighted = evaluate.load(\"f1\")\n",
    "recall = evaluate.load('recall')\n",
    "recall_macro = evaluate.load('recall')\n",
    "recall_micro = evaluate.load('recall')\n",
    "recall_weighted = evaluate.load('recall')\n",
    "\n",
    "for index, result in enumerate(results):\n",
    "    predicted_label = convert_label(result[\"label\"])\n",
    "    accuracy.add(predictions=predicted_label, references=sentiments[index])\n",
    "    precision.add(predictions=predicted_label, references=sentiments[index])\n",
    "    precision_macro.add(predictions=predicted_label, references=sentiments[index])\n",
    "    precision_micro.add(predictions=predicted_label, references=sentiments[index])\n",
    "    precision_weighted.add(predictions=predicted_label, references=sentiments[index])\n",
    "    f1.add(predictions=predicted_label, references=sentiments[index])\n",
    "    f1_macro.add(predictions=predicted_label, references=sentiments[index])\n",
    "    f1_micro.add(predictions=predicted_label, references=sentiments[index])\n",
    "    f1_weighted.add(predictions=predicted_label, references=sentiments[index])\n",
    "    recall.add(predictions=predicted_label, references=sentiments[index])\n",
    "    recall_macro.add(predictions=predicted_label, references=sentiments[index])\n",
    "    recall_micro.add(predictions=predicted_label, references=sentiments[index])\n",
    "    recall_weighted.add(predictions=predicted_label, references=sentiments[index])\n",
    "\n",
    "print(accuracy.compute())\n",
    "print(precision.compute(average = None))\n",
    "print(precision_macro.compute(average = 'macro'))\n",
    "print(precision_micro.compute(average = 'micro'))\n",
    "print(precision_weighted.compute(average = 'weighted'))\n",
    "print(f1.compute(average = None))\n",
    "print(f1_macro.compute(average = 'macro'))\n",
    "print(f1_micro.compute(average = 'micro'))\n",
    "print(f1_weighted.compute(average = 'weighted'))\n",
    "print(recall.compute(average = None))\n",
    "print(recall_macro.compute(average = 'macro'))\n",
    "print(recall_micro.compute(average = 'micro'))\n",
    "print(recall_weighted.compute(average = 'weighted'))\n"
   ]
  }
 ],
 "metadata": {
  "kernelspec": {
   "display_name": "Python 3.8.10 ('.venv': venv)",
   "language": "python",
   "name": "python3"
  },
  "language_info": {
   "codemirror_mode": {
    "name": "ipython",
    "version": 3
   },
   "file_extension": ".py",
   "mimetype": "text/x-python",
   "name": "python",
   "nbconvert_exporter": "python",
   "pygments_lexer": "ipython3",
   "version": "3.8.10"
  },
  "vscode": {
   "interpreter": {
    "hash": "17880c9d61fb44f60131b7c571e7dba3ecf129f794c4b04264e3510409962454"
   }
  }
 },
 "nbformat": 4,
 "nbformat_minor": 0
}
