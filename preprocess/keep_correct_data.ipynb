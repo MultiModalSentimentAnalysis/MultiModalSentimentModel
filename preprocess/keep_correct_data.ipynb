{
 "cells": [
  {
   "cell_type": "code",
   "execution_count": 9,
   "metadata": {},
   "outputs": [
    {
     "name": "stdout",
     "output_type": "stream",
     "text": [
      "1589\n",
      "[2494, 4196, 4202, 2734, 4150, 2028, 3264, 702, 4050, 508]\n",
      "478\n",
      "1664\n"
     ]
    }
   ],
   "source": [
    "split = \"test\"\n",
    "with open(f\"../data/error_indexes/face_error_{split}.txt\") as f:\n",
    "    face_errors = []\n",
    "    line = f.readline()\n",
    "    while line:\n",
    "        index = int(line)\n",
    "        face_errors.append(index)\n",
    "        line = f.readline()\n",
    "\n",
    "print(len(face_errors))\n",
    "with open(f\"../data/error_indexes/pose_error_{split}.txt\") as f:\n",
    "    pose_errors = []\n",
    "    line = f.readline()\n",
    "    while line:\n",
    "        index = int(line)\n",
    "        pose_errors.append(index)\n",
    "        line = f.readline()\n",
    "print(pose_errors[:10])\n",
    "print(len(pose_errors))\n",
    "face_errors.extend(pose_errors)\n",
    "errors = list(set(face_errors))\n",
    "print(len(errors))"
   ]
  },
  {
   "cell_type": "code",
   "execution_count": 11,
   "metadata": {},
   "outputs": [
    {
     "data": {
      "text/plain": [
       "5067"
      ]
     },
     "execution_count": 11,
     "metadata": {},
     "output_type": "execute_result"
    }
   ],
   "source": [
    "from glob import glob\n",
    "\n",
    "images = glob(f\"../data/images/{split}/*\")\n",
    "images_count = len(images)\n",
    "images_count = 5067\n",
    "images_count"
   ]
  },
  {
   "cell_type": "code",
   "execution_count": 12,
   "metadata": {},
   "outputs": [
    {
     "data": {
      "text/plain": [
       "3403"
      ]
     },
     "execution_count": 12,
     "metadata": {},
     "output_type": "execute_result"
    }
   ],
   "source": [
    "import numpy as np\n",
    "\n",
    "all_indexes = list(range(images_count))\n",
    "correct_indexes = np.setdiff1d(all_indexes, face_errors)\n",
    "len(correct_indexes)"
   ]
  },
  {
   "cell_type": "code",
   "execution_count": 13,
   "metadata": {},
   "outputs": [],
   "source": [
    "import os\n",
    "\n",
    "with open(f\"../data/correct_indexes/correct_indexes_{split}.txt\", \"w\") as f:\n",
    "    for index in correct_indexes:\n",
    "        f.write(str(index))\n",
    "        f.write(os.linesep)"
   ]
  },
  {
   "cell_type": "code",
   "execution_count": null,
   "metadata": {},
   "outputs": [],
   "source": []
  }
 ],
 "metadata": {
  "kernelspec": {
   "display_name": "Python 3.8.11 ('.venv': venv)",
   "language": "python",
   "name": "python3"
  },
  "language_info": {
   "codemirror_mode": {
    "name": "ipython",
    "version": 3
   },
   "file_extension": ".py",
   "mimetype": "text/x-python",
   "name": "python",
   "nbconvert_exporter": "python",
   "pygments_lexer": "ipython3",
   "version": "3.8.11"
  },
  "orig_nbformat": 4,
  "vscode": {
   "interpreter": {
    "hash": "de7383211b4ffff70067782259e5c1c9d8bdc7fbe1ab4077ac9d43b5a6892f49"
   }
  }
 },
 "nbformat": 4,
 "nbformat_minor": 2
}
