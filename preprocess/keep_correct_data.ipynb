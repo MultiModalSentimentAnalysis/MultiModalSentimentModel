{
 "cells": [
  {
   "cell_type": "code",
   "execution_count": 23,
   "metadata": {},
   "outputs": [
    {
     "name": "stdout",
     "output_type": "stream",
     "text": [
      "[992, 4341, 3390, 4029, 3897, 2369, 1657, 3357, 4109, 4163]\n"
     ]
    },
    {
     "data": {
      "text/plain": [
       "1589"
      ]
     },
     "execution_count": 23,
     "metadata": {},
     "output_type": "execute_result"
    }
   ],
   "source": [
    "split = 'test'\n",
    "with open(f'../data/face_error_{split}.txt') as f:\n",
    "    errors = []\n",
    "    line = f.readline()\n",
    "    while line:\n",
    "        index = int(line)\n",
    "        errors.append(index)\n",
    "        line = f.readline()\n",
    "\n",
    "print(errors[:10])\n",
    "len(errors)"
   ]
  },
  {
   "cell_type": "code",
   "execution_count": 24,
   "metadata": {},
   "outputs": [
    {
     "data": {
      "text/plain": [
       "5067"
      ]
     },
     "execution_count": 24,
     "metadata": {},
     "output_type": "execute_result"
    }
   ],
   "source": [
    "from glob import glob\n",
    "images = glob(f'../data/images/{split}/*')\n",
    "images_count = len(images)\n",
    "images_count"
   ]
  },
  {
   "cell_type": "code",
   "execution_count": 25,
   "metadata": {},
   "outputs": [
    {
     "data": {
      "text/plain": [
       "3478"
      ]
     },
     "execution_count": 25,
     "metadata": {},
     "output_type": "execute_result"
    }
   ],
   "source": [
    "import numpy as np\n",
    "all_indexes = list(range(images_count))\n",
    "correct_indexes = np.setdiff1d(all_indexes, errors)\n",
    "len(correct_indexes)"
   ]
  },
  {
   "cell_type": "code",
   "execution_count": 26,
   "metadata": {},
   "outputs": [],
   "source": [
    "import os\n",
    "with open(f'../data/correct_indexes/correct_indexes_{split}.txt', 'w') as f:\n",
    "    for index in correct_indexes:\n",
    "        f.write(str(index))\n",
    "        f.write(os.linesep)"
   ]
  }
 ],
 "metadata": {
  "kernelspec": {
   "display_name": "Python 3.8.11 ('.venv': venv)",
   "language": "python",
   "name": "python3"
  },
  "language_info": {
   "codemirror_mode": {
    "name": "ipython",
    "version": 3
   },
   "file_extension": ".py",
   "mimetype": "text/x-python",
   "name": "python",
   "nbconvert_exporter": "python",
   "pygments_lexer": "ipython3",
   "version": "3.8.11"
  },
  "orig_nbformat": 4,
  "vscode": {
   "interpreter": {
    "hash": "de7383211b4ffff70067782259e5c1c9d8bdc7fbe1ab4077ac9d43b5a6892f49"
   }
  }
 },
 "nbformat": 4,
 "nbformat_minor": 2
}
